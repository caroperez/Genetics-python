{
 "cells": [
  {
   "cell_type": "code",
   "execution_count": 1,
   "metadata": {},
   "outputs": [],
   "source": [
    "import numpy as np"
   ]
  },
  {
   "cell_type": "code",
   "execution_count": 2,
   "metadata": {},
   "outputs": [],
   "source": [
    "table = { \n",
    "        'ATA':'I', 'ATC':'I', 'ATT':'I', 'ATG':'M', \n",
    "        'ACA':'T', 'ACC':'T', 'ACG':'T', 'ACT':'T', \n",
    "        'AAC':'N', 'AAT':'N', 'AAA':'K', 'AAG':'K', \n",
    "        'AGC':'S', 'AGT':'S', 'AGA':'R', 'AGG':'R',                  \n",
    "        'CTA':'L', 'CTC':'L', 'CTG':'L', 'CTT':'L', \n",
    "        'CCA':'P', 'CCC':'P', 'CCG':'P', 'CCT':'P', \n",
    "        'CAC':'H', 'CAT':'H', 'CAA':'Q', 'CAG':'Q', \n",
    "        'CGA':'R', 'CGC':'R', 'CGG':'R', 'CGT':'R', \n",
    "        'GTA':'V', 'GTC':'V', 'GTG':'V', 'GTT':'V', \n",
    "        'GCA':'A', 'GCC':'A', 'GCG':'A', 'GCT':'A', \n",
    "        'GAC':'D', 'GAT':'D', 'GAA':'E', 'GAG':'E', \n",
    "        'GGA':'G', 'GGC':'G', 'GGG':'G', 'GGT':'G', \n",
    "        'TCA':'S', 'TCC':'S', 'TCG':'S', 'TCT':'S', \n",
    "        'TTC':'F', 'TTT':'F', 'TTA':'L', 'TTG':'L', \n",
    "        'TAC':'Y', 'TAT':'Y', 'TAA':'_', 'TAG':'_', \n",
    "        'TGC':'C', 'TGT':'C', 'TGA':'_', 'TGG':'W', \n",
    "    } "
   ]
  },
  {
   "cell_type": "code",
   "execution_count": 3,
   "metadata": {},
   "outputs": [],
   "source": [
    "# generate a random nucleotid\n",
    "def random_nucleotid():\n",
    "    '''generate a random nucleotide'''\n",
    "    bases = 'A', 'T', 'C', 'G'\n",
    "    nt = bases[np.random.randint(4)]\n",
    "    return nt"
   ]
  },
  {
   "cell_type": "code",
   "execution_count": 56,
   "metadata": {},
   "outputs": [
    {
     "data": {
      "text/plain": [
       "'T'"
      ]
     },
     "execution_count": 56,
     "metadata": {},
     "output_type": "execute_result"
    }
   ],
   "source": [
    "random_nucleotid()"
   ]
  },
  {
   "cell_type": "code",
   "execution_count": 57,
   "metadata": {},
   "outputs": [],
   "source": [
    "# generate a X random nucleotids\n",
    "def random_sequence(n):\n",
    "    '''generate a random nucleotide sequence of X length'''\n",
    "    seq = []\n",
    "    for i in range(n):\n",
    "        seq.append(random_nucleotid())\n",
    "    seq_final = ''.join(seq)\n",
    "    return seq_final"
   ]
  },
  {
   "cell_type": "code",
   "execution_count": 99,
   "metadata": {},
   "outputs": [],
   "source": [
    "a = random_sequence(2010)"
   ]
  },
  {
   "cell_type": "code",
   "execution_count": 103,
   "metadata": {},
   "outputs": [
    {
     "data": {
      "text/plain": [
       "'GCTCTAGAGCGCACGGAATGTGGTGCAGCCGGAACGTACCCATTAGCGACGTGGATCCTCTCTCCGTAGTGAGCCACTCCCCATAATACGATAAGGTGCCCGAGCTTGGGCGATCTCCCATCGACAAGTGTAAAATAATTATAACCCCCTTTCCACACTAGCGACTTTTACAACTGTCATGTCCCGCCCAATGTAGTTAAGACGACCTGGGTCTAAGCGTTAGGTGAGGCTGTCGGACGTCTAGCGTATACGTCCTGGTAATTAAAGCAGCGTTGGTCCTATATATACCAAGGCTACGGAAGTTGACAGTGTCAAAACCAATCCCTTTTCCGTACATTCCAAGCGTGCAATGGTAGCTGTCAACAGATAATTACTTCGTGCTTCTCCTCCGTACTTTGTTCTACCTATACGCGGCAGCAGTCTCAGGCGACTAGTGCGTTTCGTCCGGGGAACGTCTCTCACGGGATCCAAAAGCGATAGGAGCCGTCGTCGCCCCAGGCGAAATTTGCTGTTGACCCCTCTGCTAGGGGAAAGTCAGTGCCCTAGCTTGTACTGCGACGTATTACACTGGACCAGTAGGTCAGACGCCGCGATAATGCGCCTAATTGCAAAAGTGTCTCTAAGTCATGCTGCAAACGCGGGGGTGTTCTCATATTGTGTTACGCAATCCCTCGAAACGAATGGGCAGGCTTGTAGGGCATTATATCTCCGCCCACCCTCGACGGGAGATGGGACAGTGACATTATGAGGGGTCAACGGCAACCATTGCCCGGTCGGCCCAGAGATTCGGAATCTGGCTAACCTCTACCATCTTTAACAGACCCAAACCGCGGGCTAAGTGAAGGTGTGTCTAACCCTTAACGGTTATTATAGGCAACAGTCCTCTGTCATATACACTCTGCGTGTAGGGCTAAATCACTCTTTCATGAGGACTAAGCTCTGGTTTAGGCGTTCACTAAGCTGGCGTCTGTAAGAGTCCTGGGCTTCTTTCTTAGTAACCGTTGTTGCCTTGTATTAGCACTCCCGGAACCACTGTAACCAACAAATTCAATGTGCCCGATGGCAGGGAGTGTACAAACTCCAGACGTTTCATTTCAAGCACCCAGAAATAGCGTAACTGCCATCGGATTTAGGGGACTGCCCGCTTCTGGCAGGTCACTCGACCGGCTCCTGGCAGCCACCTCCGAACTGTATTCGACCTAGAGGGGGACCCATAGTAGGAGGTACTTAAGAATTATTATCGTGTACTGTATGTCTGTGCTCCGACACATACTTGGAAATGGAGTTTTCATAGGAAATTTCTCTCCCCCAGCCGCACGACCTGCTCTAATGTTTCCGATAACACGTCACCAGTAAATAATGCCGGGTATCCTTTTTCTATTGTAGTATTATTCGTAAAGTACCAGGTGATTTATTCGCTTAGGTAGGCATTTAAGTCCAGCCGTCGCCACAAGGACGATTAGTTGAAGTCCATTCATCGGTGATTAGGTATCTTGTCAAAGAGCGCTGTGGGTTCCCCTTATGCGGGGGATATGCAACGCATTCGTATCAGAATACTAGCTAGATTTCCGCGCCTATAACTGGTATCCTCGACCAAGTGCGTATTGAATGAAGAATCGTCGGCATAACAGAGGGTACTGGGCTTGGCCCCCTACCAATATCCATCAGGTCAATGAGAAACATACCGGGCCCATGACGAATTCCAGGACAGAAAATACCTCCTCCTAGTTGTATGGAAACCGGAGGGATTGGCCCAGATCCGATTGCGCGGTCCGGGCGCAACCAACATTTGTAATACGTGCATTTCTAACGACCTTACATGCGGTCCAATGTATAGTCCATAGCGGGAGACTCTGGCCCTCGCTCGTGCCCTAACCTTCCGGCGGAAAACCGGCGGCACGCTACGACACAGCCTTACTCCCGAAAGCGTATTACTTCTAGTGACCAGCGTAGTGCTGACGTTAGTTACAGCATATAACTCTGGCCATACCACCTAGGTCATCTTGCGCA'"
      ]
     },
     "execution_count": 103,
     "metadata": {},
     "output_type": "execute_result"
    }
   ],
   "source": [
    "a"
   ]
  },
  {
   "cell_type": "code",
   "execution_count": 100,
   "metadata": {},
   "outputs": [],
   "source": [
    "# function for split by three one nucleotic sequence\n",
    "def triple(seq):\n",
    "    '''function for split a nucleotic sequence in three nucleotics'''\n",
    "    seq_protein = []\n",
    "    y = 0\n",
    "    for i in range(len(seq)):\n",
    "        seq_protein.append(seq[y: y + 3])\n",
    "        y += 3\n",
    "        --in)"
   ]
  },
  {
   "cell_type": "code",
   "execution_count": 107,
   "metadata": {},
   "outputs": [
    {
     "name": "stdout",
     "output_type": "stream",
     "text": [
      "['GCT', 'CTA', 'GAG', 'CGC', 'ACG', 'GAA', 'TGT', 'GGT', 'GCA', 'GCC', 'GGA', 'ACG', 'TAC', 'CCA', 'TTA', 'GCG', 'ACG', 'TGG', 'ATC', 'CTC', 'TCT', 'CCG', 'TAG', 'TGA', 'GCC', 'ACT', 'CCC', 'CAT', 'AAT', 'ACG', 'ATA', 'AGG', 'TGC', 'CCG', 'AGC', 'TTG', 'GGC', 'GAT', 'CTC', 'CCA', 'TCG', 'ACA', 'AGT', 'GTA', 'AAA', 'TAA', 'TTA', 'TAA', 'CCC', 'CCT', 'TTC', 'CAC', 'ACT', 'AGC', 'GAC', 'TTT', 'TAC', 'AAC', 'TGT', 'CAT', 'GTC', 'CCG', 'CCC', 'AAT', 'GTA', 'GTT', 'AAG', 'ACG', 'ACC', 'TGG', 'GTC', 'TAA', 'GCG', 'TTA', 'GGT', 'GAG', 'GCT', 'GTC', 'GGA', 'CGT', 'CTA', 'GCG', 'TAT', 'ACG', 'TCC', 'TGG', 'TAA', 'TTA', 'AAG', 'CAG', 'CGT', 'TGG', 'TCC', 'TAT', 'ATA', 'TAC', 'CAA', 'GGC', 'TAC', 'GGA', 'AGT', 'TGA', 'CAG', 'TGT', 'CAA', 'AAC', 'CAA', 'TCC', 'CTT', 'TTC', 'CGT', 'ACA', 'TTC', 'CAA', 'GCG', 'TGC', 'AAT', 'GGT', 'AGC', 'TGT', 'CAA', 'CAG', 'ATA', 'ATT', 'ACT', 'TCG', 'TGC', 'TTC', 'TCC', 'TCC', 'GTA', 'CTT', 'TGT', 'TCT', 'ACC', 'TAT', 'ACG', 'CGG', 'CAG', 'CAG', 'TCT', 'CAG', 'GCG', 'ACT', 'AGT', 'GCG', 'TTT', 'CGT', 'CCG', 'GGG', 'AAC', 'GTC', 'TCT', 'CAC', 'GGG', 'ATC', 'CAA', 'AAG', 'CGA', 'TAG', 'GAG', 'CCG', 'TCG', 'TCG', 'CCC', 'CAG', 'GCG', 'AAA', 'TTT', 'GCT', 'GTT', 'GAC', 'CCC', 'TCT', 'GCT', 'AGG', 'GGA', 'AAG', 'TCA', 'GTG', 'CCC', 'TAG', 'CTT', 'GTA', 'CTG', 'CGA', 'CGT', 'ATT', 'ACA', 'CTG', 'GAC', 'CAG', 'TAG', 'GTC', 'AGA', 'CGC', 'CGC', 'GAT', 'AAT', 'GCG', 'CCT', 'AAT', 'TGC', 'AAA', 'AGT', 'GTC', 'TCT', 'AAG', 'TCA', 'TGC', 'TGC', 'AAA', 'CGC', 'GGG', 'GGT', 'GTT', 'CTC', 'ATA', 'TTG', 'TGT', 'TAC', 'GCA', 'ATC', 'CCT', 'CGA', 'AAC', 'GAA', 'TGG', 'GCA', 'GGC', 'TTG', 'TAG', 'GGC', 'ATT', 'ATA', 'TCT', 'CCG', 'CCC', 'ACC', 'CTC', 'GAC', 'GGG', 'AGA', 'TGG', 'GAC', 'AGT', 'GAC', 'ATT', 'ATG', 'AGG', 'GGT', 'CAA', 'CGG', 'CAA', 'CCA', 'TTG', 'CCC', 'GGT', 'CGG', 'CCC', 'AGA', 'GAT', 'TCG', 'GAA', 'TCT', 'GGC', 'TAA', 'CCT', 'CTA', 'CCA', 'TCT', 'TTA', 'ACA', 'GAC', 'CCA', 'AAC', 'CGC', 'GGG', 'CTA', 'AGT', 'GAA', 'GGT', 'GTG', 'TCT', 'AAC', 'CCT', 'TAA', 'CGG', 'TTA', 'TTA', 'TAG', 'GCA', 'ACA', 'GTC', 'CTC', 'TGT', 'CAT', 'ATA', 'CAC', 'TCT', 'GCG', 'TGT', 'AGG', 'GCT', 'AAA', 'TCA', 'CTC', 'TTT', 'CAT', 'GAG', 'GAC', 'TAA', 'GCT', 'CTG', 'GTT', 'TAG', 'GCG', 'TTC', 'ACT', 'AAG', 'CTG', 'GCG', 'TCT', 'GTA', 'AGA', 'GTC', 'CTG', 'GGC', 'TTC', 'TTT', 'CTT', 'AGT', 'AAC', 'CGT', 'TGT', 'TGC', 'CTT', 'GTA', 'TTA', 'GCA', 'CTC', 'CCG', 'GAA', 'CCA', 'CTG', 'TAA', 'CCA', 'ACA', 'AAT', 'TCA', 'ATG', 'TGC', 'CCG', 'ATG', 'GCA', 'GGG', 'AGT', 'GTA', 'CAA', 'ACT', 'CCA', 'GAC', 'GTT', 'TCA', 'TTT', 'CAA', 'GCA', 'CCC', 'AGA', 'AAT', 'AGC', 'GTA', 'ACT', 'GCC', 'ATC', 'GGA', 'TTT', 'AGG', 'GGA', 'CTG', 'CCC', 'GCT', 'TCT', 'GGC', 'AGG', 'TCA', 'CTC', 'GAC', 'CGG', 'CTC', 'CTG', 'GCA', 'GCC', 'ACC', 'TCC', 'GAA', 'CTG', 'TAT', 'TCG', 'ACC', 'TAG', 'AGG', 'GGG', 'ACC', 'CAT', 'AGT', 'AGG', 'AGG', 'TAC', 'TTA', 'AGA', 'ATT', 'ATT', 'ATC', 'GTG', 'TAC', 'TGT', 'ATG', 'TCT', 'GTG', 'CTC', 'CGA', 'CAC', 'ATA', 'CTT', 'GGA', 'AAT', 'GGA', 'GTT', 'TTC', 'ATA', 'GGA', 'AAT', 'TTC', 'TCT', 'CCC', 'CCA', 'GCC', 'GCA', 'CGA', 'CCT', 'GCT', 'CTA', 'ATG', 'TTT', 'CCG', 'ATA', 'ACA', 'CGT', 'CAC', 'CAG', 'TAA', 'ATA', 'ATG', 'CCG', 'GGT', 'ATC', 'CTT', 'TTT', 'CTA', 'TTG', 'TAG', 'TAT', 'TAT', 'TCG', 'TAA', 'AGT', 'ACC', 'AGG', 'TGA', 'TTT', 'ATT', 'CGC', 'TTA', 'GGT', 'AGG', 'CAT', 'TTA', 'AGT', 'CCA', 'GCC', 'GTC', 'GCC', 'ACA', 'AGG', 'ACG', 'ATT', 'AGT', 'TGA', 'AGT', 'CCA', 'TTC', 'ATC', 'GGT', 'GAT', 'TAG', 'GTA', 'TCT', 'TGT', 'CAA', 'AGA', 'GCG', 'CTG', 'TGG', 'GTT', 'CCC', 'CTT', 'ATG', 'CGG', 'GGG', 'ATA', 'TGC', 'AAC', 'GCA', 'TTC', 'GTA', 'TCA', 'GAA', 'TAC', 'TAG', 'CTA', 'GAT', 'TTC', 'CGC', 'GCC', 'TAT', 'AAC', 'TGG', 'TAT', 'CCT', 'CGA', 'CCA', 'AGT', 'GCG', 'TAT', 'TGA', 'ATG', 'AAG', 'AAT', 'CGT', 'CGG', 'CAT', 'AAC', 'AGA', 'GGG', 'TAC', 'TGG', 'GCT', 'TGG', 'CCC', 'CCT', 'ACC', 'AAT', 'ATC', 'CAT', 'CAG', 'GTC', 'AAT', 'GAG', 'AAA', 'CAT', 'ACC', 'GGG', 'CCC', 'ATG', 'ACG', 'AAT', 'TCC', 'AGG', 'ACA', 'GAA', 'AAT', 'ACC', 'TCC', 'TCC', 'TAG', 'TTG', 'TAT', 'GGA', 'AAC', 'CGG', 'AGG', 'GAT', 'TGG', 'CCC', 'AGA', 'TCC', 'GAT', 'TGC', 'GCG', 'GTC', 'CGG', 'GCG', 'CAA', 'CCA', 'ACA', 'TTT', 'GTA', 'ATA', 'CGT', 'GCA', 'TTT', 'CTA', 'ACG', 'ACC', 'TTA', 'CAT', 'GCG', 'GTC', 'CAA', 'TGT', 'ATA', 'GTC', 'CAT', 'AGC', 'GGG', 'AGA', 'CTC', 'TGG', 'CCC', 'TCG', 'CTC', 'GTG', 'CCC', 'TAA', 'CCT', 'TCC', 'GGC', 'GGA', 'AAA', 'CCG', 'GCG', 'GCA', 'CGC', 'TAC', 'GAC', 'ACA', 'GCC', 'TTA', 'CTC', 'CCG', 'AAA', 'GCG', 'TAT', 'TAC', 'TTC', 'TAG', 'TGA', 'CCA', 'GCG', 'TAG', 'TGC', 'TGA', 'CGT', 'TAG', 'TTA', 'CAG', 'CAT', 'ATA', 'ACT', 'CTG', 'GCC', 'ATA', 'CCA', 'CCT', 'AGG', 'TCA', 'TCT', 'TGC', 'GCA']\n"
     ]
    }
   ],
   "source": [
    "b = triple(a)\n",
    "\n",
    "b"
   ]
  },
  {
   "cell_type": "code",
   "execution_count": 114,
   "metadata": {},
   "outputs": [],
   "source": [
    "# function for split by three one nucleotic sequence\n",
    "def traduction(seq):\n",
    "    '''function for split a nucleotic sequence in three nucleotics'''\n",
    "    y = 0\n",
    "    seq_protein = []\n",
    "    for i in range(len(seq)):\n",
    "        seq_protein += table[seq[y: y + 3]]\n",
    "        y += 3\n",
    "        if y >= len(seq) - 2:\n",
    "            break\n",
    "    return ''.join(seq_protein)"
   ]
  },
  {
   "cell_type": "code",
   "execution_count": 115,
   "metadata": {},
   "outputs": [
    {
     "data": {
      "text/plain": [
       "'ALERTECGAAGTYPLATWILSP__ATPHNTIRCPSLGDLPSTSVK_L_PPFHTSDFYNCHVPPNVVKTTWV_ALGEAVGRLAYTSW_LKQRWSYIYQGYGS_QCQNQSLFRTFQACNGSCQQIITSCFSSVLCSTYTRQQSQATSAFRPGNVSHGIQKR_EPSSPQAKFAVDPSARGKSVP_LVLRRITLDQ_VRRRDNAPNCKSVSKSCCKRGGVLILCYAIPRNEWAGL_GIISPPTLDGRWDSDIMRGQRQPLPGRPRDSESG_PLPSLTDPNRGLSEGVSNP_RLL_ATVLCHIHSACRAKSLFHED_ALV_AFTKLASVRVLGFFLSNRCCLVLALPEPL_PTNSMCPMAGSVQTPDVSFQAPRNSVTAIGFRGLPASGRSLDRLLAATSELYST_RGTHSRRYLRIIIVYCMSVLRHILGNGVFIGNFSPPAARPALMFPITRHQ_IMPGILFLL_YYS_STR_FIRLGRHLSPAVATRTIS_SPFIGD_VSCQRALWVPLMRGICNAFVSEY_LDFRAYNWYPRPSAY_MKNRRHNRGYWAWPPTNIHQVNEKHTGPMTNSRTENTSS_LYGNRRDWPRSDCAVRAQPTFVIRAFLTTLHAVQCIVHSGRLWPSLVP_PSGGKPAARYDTALLPKAYYF__PA_C_R_LQHITLAIPPRSSCA'"
      ]
     },
     "execution_count": 115,
     "metadata": {},
     "output_type": "execute_result"
    }
   ],
   "source": [
    "traduction(a)"
   ]
  },
  {
   "cell_type": "code",
   "execution_count": null,
   "metadata": {},
   "outputs": [],
   "source": []
  }
 ],
 "metadata": {
  "kernelspec": {
   "display_name": "Python 3",
   "language": "python",
   "name": "python3"
  },
  "language_info": {
   "codemirror_mode": {
    "name": "ipython",
    "version": 3
   },
   "file_extension": ".py",
   "mimetype": "text/x-python",
   "name": "python",
   "nbconvert_exporter": "python",
   "pygments_lexer": "ipython3",
   "version": "3.7.6"
  }
 },
 "nbformat": 4,
 "nbformat_minor": 4
}
