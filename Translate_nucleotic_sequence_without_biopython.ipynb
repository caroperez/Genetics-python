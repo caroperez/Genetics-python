{
 "cells": [
  {
   "cell_type": "code",
   "execution_count": 2,
   "metadata": {},
   "outputs": [],
   "source": [
    "import numpy as np"
   ]
  },
  {
   "cell_type": "code",
   "execution_count": 32,
   "metadata": {},
   "outputs": [],
   "source": [
    "# generate a random nucleotid\n",
    "def random_nucleotid():\n",
    "    '''generate a random nucleotide'''\n",
    "    bases = 'a', 't', 'c', 'g'\n",
    "    nt = bases[np.random.randint(4)]\n",
    "    return nt"
   ]
  },
  {
   "cell_type": "code",
   "execution_count": 41,
   "metadata": {},
   "outputs": [
    {
     "data": {
      "text/plain": [
       "'g'"
      ]
     },
     "execution_count": 41,
     "metadata": {},
     "output_type": "execute_result"
    }
   ],
   "source": [
    "random_nucleotid()"
   ]
  },
  {
   "cell_type": "code",
   "execution_count": 54,
   "metadata": {},
   "outputs": [],
   "source": [
    "# generate a X random nucleotids\n",
    "def random_sequence(x):\n",
    "    '''generate a random nucleotide sequence of X length'''\n",
    "    seq = []\n",
    "    for i in range(x):\n",
    "        seq.append(random_nucleotid())\n",
    "    return ''.join(seq)"
   ]
  },
  {
   "cell_type": "code",
   "execution_count": 56,
   "metadata": {},
   "outputs": [
    {
     "data": {
      "text/plain": [
       "'gtagtaccagctacgcaatgggatcccctgagtacggtggcgcttgcctaaatgaaaatatacatcctaagttaaatccaccaggaatctagttttaataaaatgggtcgatgtaacgatacgtagccgcatcccgggtgcggtctggcgcgtcactgtttggacctctgccttttcttcgttccttctcgcaaaatcaccaaaa'"
      ]
     },
     "execution_count": 56,
     "metadata": {},
     "output_type": "execute_result"
    }
   ],
   "source": [
    "random_sequence(205)"
   ]
  },
  {
   "cell_type": "code",
   "execution_count": null,
   "metadata": {},
   "outputs": [],
   "source": []
  }
 ],
 "metadata": {
  "kernelspec": {
   "display_name": "Python 3",
   "language": "python",
   "name": "python3"
  },
  "language_info": {
   "codemirror_mode": {
    "name": "ipython",
    "version": 3
   },
   "file_extension": ".py",
   "mimetype": "text/x-python",
   "name": "python",
   "nbconvert_exporter": "python",
   "pygments_lexer": "ipython3",
   "version": "3.7.6"
  }
 },
 "nbformat": 4,
 "nbformat_minor": 4
}
